{
 "cells": [
  {
   "cell_type": "code",
   "execution_count": 144,
   "metadata": {},
   "outputs": [],
   "source": [
    "import numpy as np\n",
    "import pandas as pd\n",
    "from scipy.sparse import csr_matrix, hstack\n",
    "from sklearn.linear_model import Ridge\n",
    "from sklearn.feature_extraction.text import CountVectorizer, TfidfVectorizer\n",
    "from sklearn.preprocessing import LabelBinarizer\n",
    "\n",
    "from sklearn.model_selection import train_test_split, cross_val_score\n",
    "\n",
    "import lightgbm as lgb\n",
    "\n",
    "from sklearn.ensemble import RandomForestRegressor\n",
    "from sklearn.model_selection import KFold, cross_val_score, train_test_split, cross_val_predict\n",
    "from sklearn.metrics import mean_squared_log_error\n",
    "\n",
    "from sklearn.ensemble import VotingRegressor\n",
    "\n",
    "from sklearn import linear_model"
   ]
  },
  {
   "cell_type": "code",
   "execution_count": null,
   "metadata": {},
   "outputs": [],
   "source": []
  },
  {
   "cell_type": "code",
   "execution_count": 145,
   "metadata": {},
   "outputs": [],
   "source": [
    "train  = pd.read_csv('../MachineHackE-Commerce/Train.csv')\n",
    "test = pd.read_csv('../MachineHackE-Commerce/Test.csv')\n",
    "sub = pd.read_excel('../MachineHackE-Commerce/Sample_Submission.xlsx')\n"
   ]
  },
  {
   "cell_type": "code",
   "execution_count": 506,
   "metadata": {},
   "outputs": [
    {
     "data": {
      "text/html": [
       "<div>\n",
       "<style scoped>\n",
       "    .dataframe tbody tr th:only-of-type {\n",
       "        vertical-align: middle;\n",
       "    }\n",
       "\n",
       "    .dataframe tbody tr th {\n",
       "        vertical-align: top;\n",
       "    }\n",
       "\n",
       "    .dataframe thead th {\n",
       "        text-align: right;\n",
       "    }\n",
       "</style>\n",
       "<table border=\"1\" class=\"dataframe\">\n",
       "  <thead>\n",
       "    <tr style=\"text-align: right;\">\n",
       "      <th></th>\n",
       "      <th>Product</th>\n",
       "      <th>Product_Brand</th>\n",
       "      <th>Item_Category</th>\n",
       "      <th>Subcategory_1</th>\n",
       "      <th>Subcategory_2</th>\n",
       "      <th>Item_Rating</th>\n",
       "      <th>Date</th>\n",
       "    </tr>\n",
       "  </thead>\n",
       "  <tbody>\n",
       "    <tr>\n",
       "      <th>1046</th>\n",
       "      <td>P-9758</td>\n",
       "      <td>B-2543</td>\n",
       "      <td>sports fitness</td>\n",
       "      <td>outdoor adventure</td>\n",
       "      <td>camping hiking</td>\n",
       "      <td>2.0</td>\n",
       "      <td>28/2/2014</td>\n",
       "    </tr>\n",
       "    <tr>\n",
       "      <th>1047</th>\n",
       "      <td>P-11898</td>\n",
       "      <td>B-3197</td>\n",
       "      <td>jewellery</td>\n",
       "      <td>necklaces chains</td>\n",
       "      <td>necklaces</td>\n",
       "      <td>4.7</td>\n",
       "      <td>1/12/2019</td>\n",
       "    </tr>\n",
       "    <tr>\n",
       "      <th>1048</th>\n",
       "      <td>P-904</td>\n",
       "      <td>B-133</td>\n",
       "      <td>automotive</td>\n",
       "      <td>accessories spare parts</td>\n",
       "      <td>car interior exterior</td>\n",
       "      <td>3.5</td>\n",
       "      <td>1/12/2014</td>\n",
       "    </tr>\n",
       "    <tr>\n",
       "      <th>1049</th>\n",
       "      <td>P-1714</td>\n",
       "      <td>B-358</td>\n",
       "      <td>kitchen dining</td>\n",
       "      <td>lighting</td>\n",
       "      <td>bulbs</td>\n",
       "      <td>2.4</td>\n",
       "      <td>23/6/2013</td>\n",
       "    </tr>\n",
       "    <tr>\n",
       "      <th>1050</th>\n",
       "      <td>P-620</td>\n",
       "      <td>B-133</td>\n",
       "      <td>automotive</td>\n",
       "      <td>accessories spare parts</td>\n",
       "      <td>car interior exterior</td>\n",
       "      <td>3.1</td>\n",
       "      <td>1/12/2012</td>\n",
       "    </tr>\n",
       "  </tbody>\n",
       "</table>\n",
       "</div>"
      ],
      "text/plain": [
       "      Product Product_Brand   Item_Category            Subcategory_1  \\\n",
       "1046   P-9758        B-2543  sports fitness        outdoor adventure   \n",
       "1047  P-11898        B-3197       jewellery         necklaces chains   \n",
       "1048    P-904         B-133      automotive  accessories spare parts   \n",
       "1049   P-1714         B-358  kitchen dining                 lighting   \n",
       "1050    P-620         B-133      automotive  accessories spare parts   \n",
       "\n",
       "              Subcategory_2  Item_Rating       Date  \n",
       "1046         camping hiking          2.0  28/2/2014  \n",
       "1047              necklaces          4.7  1/12/2019  \n",
       "1048  car interior exterior          3.5  1/12/2014  \n",
       "1049                  bulbs          2.4  23/6/2013  \n",
       "1050  car interior exterior          3.1  1/12/2012  "
      ]
     },
     "execution_count": 506,
     "metadata": {},
     "output_type": "execute_result"
    }
   ],
   "source": [
    "test.tail()"
   ]
  },
  {
   "cell_type": "code",
   "execution_count": 507,
   "metadata": {},
   "outputs": [],
   "source": [
    "z =train[ train['Item_Category']=='automotive' ]"
   ]
  },
  {
   "cell_type": "code",
   "execution_count": 508,
   "metadata": {},
   "outputs": [
    {
     "data": {
      "text/html": [
       "<div>\n",
       "<style scoped>\n",
       "    .dataframe tbody tr th:only-of-type {\n",
       "        vertical-align: middle;\n",
       "    }\n",
       "\n",
       "    .dataframe tbody tr th {\n",
       "        vertical-align: top;\n",
       "    }\n",
       "\n",
       "    .dataframe thead th {\n",
       "        text-align: right;\n",
       "    }\n",
       "</style>\n",
       "<table border=\"1\" class=\"dataframe\">\n",
       "  <thead>\n",
       "    <tr style=\"text-align: right;\">\n",
       "      <th></th>\n",
       "      <th>Product</th>\n",
       "      <th>Product_Brand</th>\n",
       "      <th>Item_Category</th>\n",
       "      <th>Subcategory_1</th>\n",
       "      <th>Subcategory_2</th>\n",
       "      <th>Item_Rating</th>\n",
       "      <th>Date</th>\n",
       "      <th>Selling_Price</th>\n",
       "    </tr>\n",
       "  </thead>\n",
       "  <tbody>\n",
       "    <tr>\n",
       "      <th>9</th>\n",
       "      <td>P-360</td>\n",
       "      <td>B-88</td>\n",
       "      <td>automotive</td>\n",
       "      <td>accessories spare parts</td>\n",
       "      <td>car interior exterior</td>\n",
       "      <td>2.3</td>\n",
       "      <td>10/5/2018</td>\n",
       "      <td>199.0</td>\n",
       "    </tr>\n",
       "    <tr>\n",
       "      <th>56</th>\n",
       "      <td>P-10422</td>\n",
       "      <td>B-2741</td>\n",
       "      <td>automotive</td>\n",
       "      <td>accessories spare parts</td>\n",
       "      <td>car interior exterior</td>\n",
       "      <td>3.4</td>\n",
       "      <td>21/4/2014</td>\n",
       "      <td>350.0</td>\n",
       "    </tr>\n",
       "    <tr>\n",
       "      <th>69</th>\n",
       "      <td>P-11595</td>\n",
       "      <td>B-3106</td>\n",
       "      <td>automotive</td>\n",
       "      <td>accessories spare parts</td>\n",
       "      <td>car interior exterior</td>\n",
       "      <td>3.5</td>\n",
       "      <td>24/5/2014</td>\n",
       "      <td>592.0</td>\n",
       "    </tr>\n",
       "    <tr>\n",
       "      <th>73</th>\n",
       "      <td>P-1004</td>\n",
       "      <td>B-133</td>\n",
       "      <td>automotive</td>\n",
       "      <td>accessories spare parts</td>\n",
       "      <td>car interior exterior</td>\n",
       "      <td>4.2</td>\n",
       "      <td>1/12/2017</td>\n",
       "      <td>1374.0</td>\n",
       "    </tr>\n",
       "    <tr>\n",
       "      <th>108</th>\n",
       "      <td>P-612</td>\n",
       "      <td>B-133</td>\n",
       "      <td>automotive</td>\n",
       "      <td>accessories spare parts</td>\n",
       "      <td>car interior exterior</td>\n",
       "      <td>3.9</td>\n",
       "      <td>1/12/2013</td>\n",
       "      <td>1348.0</td>\n",
       "    </tr>\n",
       "    <tr>\n",
       "      <th>...</th>\n",
       "      <td>...</td>\n",
       "      <td>...</td>\n",
       "      <td>...</td>\n",
       "      <td>...</td>\n",
       "      <td>...</td>\n",
       "      <td>...</td>\n",
       "      <td>...</td>\n",
       "      <td>...</td>\n",
       "    </tr>\n",
       "    <tr>\n",
       "      <th>2342</th>\n",
       "      <td>P-715</td>\n",
       "      <td>B-133</td>\n",
       "      <td>automotive</td>\n",
       "      <td>accessories spare parts</td>\n",
       "      <td>car interior exterior</td>\n",
       "      <td>2.6</td>\n",
       "      <td>1/12/2012</td>\n",
       "      <td>1594.0</td>\n",
       "    </tr>\n",
       "    <tr>\n",
       "      <th>2344</th>\n",
       "      <td>P-920</td>\n",
       "      <td>B-133</td>\n",
       "      <td>automotive</td>\n",
       "      <td>accessories spare parts</td>\n",
       "      <td>car interior exterior</td>\n",
       "      <td>4.3</td>\n",
       "      <td>1/12/2019</td>\n",
       "      <td>919.0</td>\n",
       "    </tr>\n",
       "    <tr>\n",
       "      <th>2347</th>\n",
       "      <td>P-975</td>\n",
       "      <td>B-133</td>\n",
       "      <td>automotive</td>\n",
       "      <td>accessories spare parts</td>\n",
       "      <td>car interior exterior</td>\n",
       "      <td>4.5</td>\n",
       "      <td>1/12/2019</td>\n",
       "      <td>1380.0</td>\n",
       "    </tr>\n",
       "    <tr>\n",
       "      <th>2436</th>\n",
       "      <td>P-829</td>\n",
       "      <td>B-133</td>\n",
       "      <td>automotive</td>\n",
       "      <td>accessories spare parts</td>\n",
       "      <td>car interior exterior</td>\n",
       "      <td>2.0</td>\n",
       "      <td>1/12/2017</td>\n",
       "      <td>1348.0</td>\n",
       "    </tr>\n",
       "    <tr>\n",
       "      <th>2450</th>\n",
       "      <td>P-724</td>\n",
       "      <td>B-133</td>\n",
       "      <td>automotive</td>\n",
       "      <td>accessories spare parts</td>\n",
       "      <td>car interior exterior</td>\n",
       "      <td>2.7</td>\n",
       "      <td>1/12/2014</td>\n",
       "      <td>1598.0</td>\n",
       "    </tr>\n",
       "  </tbody>\n",
       "</table>\n",
       "<p>126 rows × 8 columns</p>\n",
       "</div>"
      ],
      "text/plain": [
       "      Product Product_Brand Item_Category            Subcategory_1  \\\n",
       "9       P-360          B-88    automotive  accessories spare parts   \n",
       "56    P-10422        B-2741    automotive  accessories spare parts   \n",
       "69    P-11595        B-3106    automotive  accessories spare parts   \n",
       "73     P-1004         B-133    automotive  accessories spare parts   \n",
       "108     P-612         B-133    automotive  accessories spare parts   \n",
       "...       ...           ...           ...                      ...   \n",
       "2342    P-715         B-133    automotive  accessories spare parts   \n",
       "2344    P-920         B-133    automotive  accessories spare parts   \n",
       "2347    P-975         B-133    automotive  accessories spare parts   \n",
       "2436    P-829         B-133    automotive  accessories spare parts   \n",
       "2450    P-724         B-133    automotive  accessories spare parts   \n",
       "\n",
       "              Subcategory_2  Item_Rating       Date  Selling_Price  \n",
       "9     car interior exterior          2.3  10/5/2018          199.0  \n",
       "56    car interior exterior          3.4  21/4/2014          350.0  \n",
       "69    car interior exterior          3.5  24/5/2014          592.0  \n",
       "73    car interior exterior          4.2  1/12/2017         1374.0  \n",
       "108   car interior exterior          3.9  1/12/2013         1348.0  \n",
       "...                     ...          ...        ...            ...  \n",
       "2342  car interior exterior          2.6  1/12/2012         1594.0  \n",
       "2344  car interior exterior          4.3  1/12/2019          919.0  \n",
       "2347  car interior exterior          4.5  1/12/2019         1380.0  \n",
       "2436  car interior exterior          2.0  1/12/2017         1348.0  \n",
       "2450  car interior exterior          2.7  1/12/2014         1598.0  \n",
       "\n",
       "[126 rows x 8 columns]"
      ]
     },
     "execution_count": 508,
     "metadata": {},
     "output_type": "execute_result"
    }
   ],
   "source": [
    "z[z['Subcategory_2']=='car interior exterior']"
   ]
  },
  {
   "cell_type": "code",
   "execution_count": null,
   "metadata": {},
   "outputs": [],
   "source": []
  },
  {
   "cell_type": "code",
   "execution_count": 322,
   "metadata": {},
   "outputs": [
    {
     "data": {
      "text/html": [
       "<div>\n",
       "<style scoped>\n",
       "    .dataframe tbody tr th:only-of-type {\n",
       "        vertical-align: middle;\n",
       "    }\n",
       "\n",
       "    .dataframe tbody tr th {\n",
       "        vertical-align: top;\n",
       "    }\n",
       "\n",
       "    .dataframe thead th {\n",
       "        text-align: right;\n",
       "    }\n",
       "</style>\n",
       "<table border=\"1\" class=\"dataframe\">\n",
       "  <thead>\n",
       "    <tr style=\"text-align: right;\">\n",
       "      <th></th>\n",
       "      <th>Product</th>\n",
       "      <th>Product_Brand</th>\n",
       "      <th>Item_Category</th>\n",
       "      <th>Subcategory_1</th>\n",
       "      <th>Subcategory_2</th>\n",
       "      <th>Item_Rating</th>\n",
       "      <th>Date</th>\n",
       "    </tr>\n",
       "  </thead>\n",
       "  <tbody>\n",
       "    <tr>\n",
       "      <th>0</th>\n",
       "      <td>P-11284</td>\n",
       "      <td>B-2984</td>\n",
       "      <td>computers</td>\n",
       "      <td>network components</td>\n",
       "      <td>routers</td>\n",
       "      <td>4.3</td>\n",
       "      <td>1/12/2018</td>\n",
       "    </tr>\n",
       "    <tr>\n",
       "      <th>1</th>\n",
       "      <td>P-6580</td>\n",
       "      <td>B-1732</td>\n",
       "      <td>jewellery</td>\n",
       "      <td>bangles bracelets armlets</td>\n",
       "      <td>bracelets</td>\n",
       "      <td>3.0</td>\n",
       "      <td>20/12/2012</td>\n",
       "    </tr>\n",
       "    <tr>\n",
       "      <th>2</th>\n",
       "      <td>P-5843</td>\n",
       "      <td>B-3078</td>\n",
       "      <td>clothing</td>\n",
       "      <td>women s clothing</td>\n",
       "      <td>western wear</td>\n",
       "      <td>1.5</td>\n",
       "      <td>1/12/2014</td>\n",
       "    </tr>\n",
       "    <tr>\n",
       "      <th>3</th>\n",
       "      <td>P-5334</td>\n",
       "      <td>B-1421</td>\n",
       "      <td>jewellery</td>\n",
       "      <td>necklaces chains</td>\n",
       "      <td>necklaces</td>\n",
       "      <td>3.9</td>\n",
       "      <td>1/12/2019</td>\n",
       "    </tr>\n",
       "    <tr>\n",
       "      <th>4</th>\n",
       "      <td>P-5586</td>\n",
       "      <td>B-3078</td>\n",
       "      <td>clothing</td>\n",
       "      <td>women s clothing</td>\n",
       "      <td>western wear</td>\n",
       "      <td>1.4</td>\n",
       "      <td>1/12/2017</td>\n",
       "    </tr>\n",
       "    <tr>\n",
       "      <th>...</th>\n",
       "      <td>...</td>\n",
       "      <td>...</td>\n",
       "      <td>...</td>\n",
       "      <td>...</td>\n",
       "      <td>...</td>\n",
       "      <td>...</td>\n",
       "      <td>...</td>\n",
       "    </tr>\n",
       "    <tr>\n",
       "      <th>1046</th>\n",
       "      <td>P-9758</td>\n",
       "      <td>B-2543</td>\n",
       "      <td>sports fitness</td>\n",
       "      <td>outdoor adventure</td>\n",
       "      <td>camping hiking</td>\n",
       "      <td>2.0</td>\n",
       "      <td>28/2/2014</td>\n",
       "    </tr>\n",
       "    <tr>\n",
       "      <th>1047</th>\n",
       "      <td>P-11898</td>\n",
       "      <td>B-3197</td>\n",
       "      <td>jewellery</td>\n",
       "      <td>necklaces chains</td>\n",
       "      <td>necklaces</td>\n",
       "      <td>4.7</td>\n",
       "      <td>1/12/2019</td>\n",
       "    </tr>\n",
       "    <tr>\n",
       "      <th>1048</th>\n",
       "      <td>P-904</td>\n",
       "      <td>B-133</td>\n",
       "      <td>automotive</td>\n",
       "      <td>accessories spare parts</td>\n",
       "      <td>car interior exterior</td>\n",
       "      <td>3.5</td>\n",
       "      <td>1/12/2014</td>\n",
       "    </tr>\n",
       "    <tr>\n",
       "      <th>1049</th>\n",
       "      <td>P-1714</td>\n",
       "      <td>B-358</td>\n",
       "      <td>kitchen dining</td>\n",
       "      <td>lighting</td>\n",
       "      <td>bulbs</td>\n",
       "      <td>2.4</td>\n",
       "      <td>23/6/2013</td>\n",
       "    </tr>\n",
       "    <tr>\n",
       "      <th>1050</th>\n",
       "      <td>P-620</td>\n",
       "      <td>B-133</td>\n",
       "      <td>automotive</td>\n",
       "      <td>accessories spare parts</td>\n",
       "      <td>car interior exterior</td>\n",
       "      <td>3.1</td>\n",
       "      <td>1/12/2012</td>\n",
       "    </tr>\n",
       "  </tbody>\n",
       "</table>\n",
       "<p>1051 rows × 7 columns</p>\n",
       "</div>"
      ],
      "text/plain": [
       "      Product Product_Brand   Item_Category              Subcategory_1  \\\n",
       "0     P-11284        B-2984       computers         network components   \n",
       "1      P-6580        B-1732       jewellery  bangles bracelets armlets   \n",
       "2      P-5843        B-3078        clothing           women s clothing   \n",
       "3      P-5334        B-1421       jewellery           necklaces chains   \n",
       "4      P-5586        B-3078        clothing           women s clothing   \n",
       "...       ...           ...             ...                        ...   \n",
       "1046   P-9758        B-2543  sports fitness          outdoor adventure   \n",
       "1047  P-11898        B-3197       jewellery           necklaces chains   \n",
       "1048    P-904         B-133      automotive    accessories spare parts   \n",
       "1049   P-1714         B-358  kitchen dining                   lighting   \n",
       "1050    P-620         B-133      automotive    accessories spare parts   \n",
       "\n",
       "              Subcategory_2  Item_Rating        Date  \n",
       "0                   routers          4.3   1/12/2018  \n",
       "1                 bracelets          3.0  20/12/2012  \n",
       "2              western wear          1.5   1/12/2014  \n",
       "3                 necklaces          3.9   1/12/2019  \n",
       "4              western wear          1.4   1/12/2017  \n",
       "...                     ...          ...         ...  \n",
       "1046         camping hiking          2.0   28/2/2014  \n",
       "1047              necklaces          4.7   1/12/2019  \n",
       "1048  car interior exterior          3.5   1/12/2014  \n",
       "1049                  bulbs          2.4   23/6/2013  \n",
       "1050  car interior exterior          3.1   1/12/2012  \n",
       "\n",
       "[1051 rows x 7 columns]"
      ]
     },
     "execution_count": 322,
     "metadata": {},
     "output_type": "execute_result"
    }
   ],
   "source": [
    "test"
   ]
  },
  {
   "cell_type": "code",
   "execution_count": 146,
   "metadata": {},
   "outputs": [],
   "source": [
    "train_embedding = pd.read_csv('../MachineHackE-Commerce/train_embedding.csv')\n",
    "train_topic = pd.read_csv('../MachineHackE-Commerce/train_topic.csv')\n",
    "train_tfidf = pd.read_csv('../MachineHackE-Commerce/train_tfidf.csv')\n",
    "train_enc = pd.read_csv('../MachineHackE-Commerce/train_enc.csv')"
   ]
  },
  {
   "cell_type": "code",
   "execution_count": 147,
   "metadata": {},
   "outputs": [],
   "source": [
    "test_embedding = pd.read_csv('../MachineHackE-Commerce/test_embedding.csv')\n",
    "test_topic = pd.read_csv('../MachineHackE-Commerce/test_topic.csv')\n",
    "test_tfidf = pd.read_csv('../MachineHackE-Commerce/test_tfidf.csv')\n",
    "test_enc = pd.read_csv('../MachineHackE-Commerce/test_enc.csv')"
   ]
  },
  {
   "cell_type": "code",
   "execution_count": 148,
   "metadata": {},
   "outputs": [
    {
     "data": {
      "text/plain": [
       "Index(['Product', 'Product_Brand', 'Item_Category', 'Subcategory_1',\n",
       "       'Subcategory_2', 'Item_Rating', 'Selling_Price', 'Is_Holiday', 'Year',\n",
       "       'Month', 'Week', 'Day', 'Dayofweek', 'Is_month_end', 'Is_month_start',\n",
       "       'Is_quarter_end', 'Is_quarter_start'],\n",
       "      dtype='object')"
      ]
     },
     "execution_count": 148,
     "metadata": {},
     "output_type": "execute_result"
    }
   ],
   "source": [
    "train_enc.columns"
   ]
  },
  {
   "cell_type": "code",
   "execution_count": 149,
   "metadata": {},
   "outputs": [],
   "source": [
    "train_enc1 = train_enc.drop(['Product', 'Product_Brand', 'Item_Category', 'Subcategory_1',\n",
    "       'Subcategory_2','Selling_Price'],axis=1)*1\n",
    "test_enc1 = test_enc.drop(['Product', 'Product_Brand', 'Item_Category', 'Subcategory_1',\n",
    "       'Subcategory_2'],axis=1)*1"
   ]
  },
  {
   "cell_type": "code",
   "execution_count": 150,
   "metadata": {},
   "outputs": [],
   "source": [
    "def f_y(s):\n",
    "    return s/1000"
   ]
  },
  {
   "cell_type": "code",
   "execution_count": 151,
   "metadata": {},
   "outputs": [],
   "source": [
    "temptrain = f_y(train_enc1['Year'])\n",
    "temptest = f_y(test_enc1['Year'])"
   ]
  },
  {
   "cell_type": "code",
   "execution_count": 152,
   "metadata": {},
   "outputs": [],
   "source": [
    "train_enc1['Year'] = temptrain\n",
    "test_enc1['Year'] = temptest"
   ]
  },
  {
   "cell_type": "code",
   "execution_count": 153,
   "metadata": {},
   "outputs": [],
   "source": [
    "def f(s):\n",
    "    return s/s.max()"
   ]
  },
  {
   "cell_type": "code",
   "execution_count": 154,
   "metadata": {},
   "outputs": [
    {
     "data": {
      "text/plain": [
       "Index(['Item_Rating', 'Is_Holiday', 'Year', 'Month', 'Week', 'Day',\n",
       "       'Dayofweek', 'Is_month_end', 'Is_month_start', 'Is_quarter_end',\n",
       "       'Is_quarter_start'],\n",
       "      dtype='object')"
      ]
     },
     "execution_count": 154,
     "metadata": {},
     "output_type": "execute_result"
    }
   ],
   "source": [
    "train_enc1.columns"
   ]
  },
  {
   "cell_type": "code",
   "execution_count": 155,
   "metadata": {},
   "outputs": [],
   "source": [
    "train_enc1['Month'] = train_enc1[['Month']].apply(f)\n",
    "test_enc1['Month'] = test_enc1[['Month']].apply(f)\n",
    "\n",
    "\n",
    "train_enc1['Week'] = train_enc1[['Week']].apply(f)\n",
    "test_enc1['Week'] = test_enc1[['Week']].apply(f)\n",
    "\n",
    "train_enc1['Day'] = train_enc1[['Day']].apply(f)\n",
    "test_enc1['Day'] = test_enc1[['Day']].apply(f)\n",
    "\n",
    "train_enc1['Dayofweek'] = train_enc1[['Dayofweek']].apply(f)\n",
    "test_enc1['Dayofweek'] = test_enc1[['Dayofweek']].apply(f)\n"
   ]
  },
  {
   "cell_type": "code",
   "execution_count": 156,
   "metadata": {},
   "outputs": [
    {
     "data": {
      "text/html": [
       "<div>\n",
       "<style scoped>\n",
       "    .dataframe tbody tr th:only-of-type {\n",
       "        vertical-align: middle;\n",
       "    }\n",
       "\n",
       "    .dataframe tbody tr th {\n",
       "        vertical-align: top;\n",
       "    }\n",
       "\n",
       "    .dataframe thead th {\n",
       "        text-align: right;\n",
       "    }\n",
       "</style>\n",
       "<table border=\"1\" class=\"dataframe\">\n",
       "  <thead>\n",
       "    <tr style=\"text-align: right;\">\n",
       "      <th></th>\n",
       "      <th>Item_Rating</th>\n",
       "      <th>Is_Holiday</th>\n",
       "      <th>Year</th>\n",
       "      <th>Month</th>\n",
       "      <th>Week</th>\n",
       "      <th>Day</th>\n",
       "      <th>Dayofweek</th>\n",
       "      <th>Is_month_end</th>\n",
       "      <th>Is_month_start</th>\n",
       "      <th>Is_quarter_end</th>\n",
       "      <th>Is_quarter_start</th>\n",
       "    </tr>\n",
       "  </thead>\n",
       "  <tbody>\n",
       "    <tr>\n",
       "      <th>0</th>\n",
       "      <td>4.3</td>\n",
       "      <td>0</td>\n",
       "      <td>2.017</td>\n",
       "      <td>0.166667</td>\n",
       "      <td>0.094340</td>\n",
       "      <td>0.096774</td>\n",
       "      <td>0.666667</td>\n",
       "      <td>0</td>\n",
       "      <td>0</td>\n",
       "      <td>0</td>\n",
       "      <td>0</td>\n",
       "    </tr>\n",
       "    <tr>\n",
       "      <th>1</th>\n",
       "      <td>3.1</td>\n",
       "      <td>0</td>\n",
       "      <td>2.015</td>\n",
       "      <td>0.583333</td>\n",
       "      <td>0.509434</td>\n",
       "      <td>0.032258</td>\n",
       "      <td>0.333333</td>\n",
       "      <td>0</td>\n",
       "      <td>1</td>\n",
       "      <td>0</td>\n",
       "      <td>1</td>\n",
       "    </tr>\n",
       "    <tr>\n",
       "      <th>2</th>\n",
       "      <td>3.5</td>\n",
       "      <td>1</td>\n",
       "      <td>2.019</td>\n",
       "      <td>0.083333</td>\n",
       "      <td>0.037736</td>\n",
       "      <td>0.387097</td>\n",
       "      <td>0.833333</td>\n",
       "      <td>0</td>\n",
       "      <td>0</td>\n",
       "      <td>0</td>\n",
       "      <td>0</td>\n",
       "    </tr>\n",
       "    <tr>\n",
       "      <th>3</th>\n",
       "      <td>4.0</td>\n",
       "      <td>0</td>\n",
       "      <td>2.014</td>\n",
       "      <td>1.000000</td>\n",
       "      <td>0.943396</td>\n",
       "      <td>0.387097</td>\n",
       "      <td>0.666667</td>\n",
       "      <td>0</td>\n",
       "      <td>0</td>\n",
       "      <td>0</td>\n",
       "      <td>0</td>\n",
       "    </tr>\n",
       "    <tr>\n",
       "      <th>4</th>\n",
       "      <td>4.3</td>\n",
       "      <td>0</td>\n",
       "      <td>2.013</td>\n",
       "      <td>1.000000</td>\n",
       "      <td>0.943396</td>\n",
       "      <td>0.387097</td>\n",
       "      <td>0.500000</td>\n",
       "      <td>0</td>\n",
       "      <td>0</td>\n",
       "      <td>0</td>\n",
       "      <td>0</td>\n",
       "    </tr>\n",
       "  </tbody>\n",
       "</table>\n",
       "</div>"
      ],
      "text/plain": [
       "   Item_Rating  Is_Holiday   Year     Month      Week       Day  Dayofweek  \\\n",
       "0          4.3           0  2.017  0.166667  0.094340  0.096774   0.666667   \n",
       "1          3.1           0  2.015  0.583333  0.509434  0.032258   0.333333   \n",
       "2          3.5           1  2.019  0.083333  0.037736  0.387097   0.833333   \n",
       "3          4.0           0  2.014  1.000000  0.943396  0.387097   0.666667   \n",
       "4          4.3           0  2.013  1.000000  0.943396  0.387097   0.500000   \n",
       "\n",
       "   Is_month_end  Is_month_start  Is_quarter_end  Is_quarter_start  \n",
       "0             0               0               0                 0  \n",
       "1             0               1               0                 1  \n",
       "2             0               0               0                 0  \n",
       "3             0               0               0                 0  \n",
       "4             0               0               0                 0  "
      ]
     },
     "execution_count": 156,
     "metadata": {},
     "output_type": "execute_result"
    }
   ],
   "source": [
    "train_enc1.head()"
   ]
  },
  {
   "cell_type": "code",
   "execution_count": 157,
   "metadata": {},
   "outputs": [
    {
     "data": {
      "text/plain": [
       "(3503, 11)"
      ]
     },
     "execution_count": 157,
     "metadata": {},
     "output_type": "execute_result"
    }
   ],
   "source": [
    "encoded = pd.concat([train_enc1,test_enc1]).values\n",
    "encoded.shape"
   ]
  },
  {
   "cell_type": "code",
   "execution_count": 159,
   "metadata": {},
   "outputs": [
    {
     "data": {
      "text/plain": [
       "(3503, 15)"
      ]
     },
     "execution_count": 159,
     "metadata": {},
     "output_type": "execute_result"
    }
   ],
   "source": [
    "train_topic.shape\n",
    "topic = pd.concat([train_topic,test_topic]).values\n",
    "topic.shape"
   ]
  },
  {
   "cell_type": "code",
   "execution_count": 161,
   "metadata": {},
   "outputs": [],
   "source": [
    "NUM_BRANDS = 790\n",
    "NUM_CATEGORIES = 1001\n",
    "NAME_MIN_DF = 10\n",
    "MAX_FEATURES_ITEM_DESCRIPTION = 3"
   ]
  },
  {
   "cell_type": "code",
   "execution_count": 162,
   "metadata": {},
   "outputs": [
    {
     "name": "stderr",
     "output_type": "stream",
     "text": [
      "/home/ryan/.local/lib/python3.6/site-packages/ipykernel_launcher.py:4: FutureWarning: Sorting because non-concatenation axis is not aligned. A future version\n",
      "of pandas will change to not sort by default.\n",
      "\n",
      "To accept the future behavior, pass 'sort=False'.\n",
      "\n",
      "To retain the current behavior and silence the warning, pass 'sort=True'.\n",
      "\n",
      "  after removing the cwd from sys.path.\n"
     ]
    }
   ],
   "source": [
    "nrow_train = train.shape[0]\n",
    "y = np.log1p(train[\"Selling_Price\"])\n",
    "#y = train[\"Selling_Price\"]\n",
    "dataset = pd.concat([train, test])\n",
    "      "
   ]
  },
  {
   "cell_type": "code",
   "execution_count": 163,
   "metadata": {},
   "outputs": [],
   "source": [
    "dataset['Item_Category'] = dataset['Item_Category'].astype('category')\n",
    "dataset['Product_Brand'] = dataset['Product_Brand'].astype('category')\n",
    "dataset['Subcategory_1'] = dataset['Subcategory_1'].astype('category')\n",
    "dataset['Subcategory_2'] = dataset['Subcategory_2'].astype('category')\n",
    "\n",
    "dataset['text'] = dataset.apply(lambda row: ' '.join ([str(row['Item_Category']), str(row['Subcategory_1']),str(row['Subcategory_2'])]), \n",
    "                                          axis=1)\n",
    "\n"
   ]
  },
  {
   "cell_type": "code",
   "execution_count": 164,
   "metadata": {},
   "outputs": [
    {
     "data": {
      "text/html": [
       "<div>\n",
       "<style scoped>\n",
       "    .dataframe tbody tr th:only-of-type {\n",
       "        vertical-align: middle;\n",
       "    }\n",
       "\n",
       "    .dataframe tbody tr th {\n",
       "        vertical-align: top;\n",
       "    }\n",
       "\n",
       "    .dataframe thead th {\n",
       "        text-align: right;\n",
       "    }\n",
       "</style>\n",
       "<table border=\"1\" class=\"dataframe\">\n",
       "  <thead>\n",
       "    <tr style=\"text-align: right;\">\n",
       "      <th></th>\n",
       "      <th>Date</th>\n",
       "      <th>Item_Category</th>\n",
       "      <th>Item_Rating</th>\n",
       "      <th>Product</th>\n",
       "      <th>Product_Brand</th>\n",
       "      <th>Selling_Price</th>\n",
       "      <th>Subcategory_1</th>\n",
       "      <th>Subcategory_2</th>\n",
       "      <th>text</th>\n",
       "    </tr>\n",
       "  </thead>\n",
       "  <tbody>\n",
       "    <tr>\n",
       "      <th>0</th>\n",
       "      <td>2/3/2017</td>\n",
       "      <td>bags wallets belts</td>\n",
       "      <td>4.3</td>\n",
       "      <td>P-2610</td>\n",
       "      <td>B-659</td>\n",
       "      <td>291.0</td>\n",
       "      <td>bags</td>\n",
       "      <td>hand bags</td>\n",
       "      <td>bags wallets belts bags hand bags</td>\n",
       "    </tr>\n",
       "    <tr>\n",
       "      <th>1</th>\n",
       "      <td>7/1/2015</td>\n",
       "      <td>clothing</td>\n",
       "      <td>3.1</td>\n",
       "      <td>P-2453</td>\n",
       "      <td>B-3078</td>\n",
       "      <td>897.0</td>\n",
       "      <td>women s clothing</td>\n",
       "      <td>western wear</td>\n",
       "      <td>clothing women s clothing western wear</td>\n",
       "    </tr>\n",
       "    <tr>\n",
       "      <th>2</th>\n",
       "      <td>1/12/2019</td>\n",
       "      <td>home decor festive needs</td>\n",
       "      <td>3.5</td>\n",
       "      <td>P-6802</td>\n",
       "      <td>B-1810</td>\n",
       "      <td>792.0</td>\n",
       "      <td>showpieces</td>\n",
       "      <td>ethnic</td>\n",
       "      <td>home decor festive needs showpieces ethnic</td>\n",
       "    </tr>\n",
       "    <tr>\n",
       "      <th>3</th>\n",
       "      <td>12/12/2014</td>\n",
       "      <td>beauty and personal care</td>\n",
       "      <td>4.0</td>\n",
       "      <td>P-4452</td>\n",
       "      <td>B-3078</td>\n",
       "      <td>837.0</td>\n",
       "      <td>eye care</td>\n",
       "      <td>h2o plus eye care</td>\n",
       "      <td>beauty and personal care eye care h2o plus eye...</td>\n",
       "    </tr>\n",
       "    <tr>\n",
       "      <th>4</th>\n",
       "      <td>12/12/2013</td>\n",
       "      <td>clothing</td>\n",
       "      <td>4.3</td>\n",
       "      <td>P-8454</td>\n",
       "      <td>B-3078</td>\n",
       "      <td>470.0</td>\n",
       "      <td>men s clothing</td>\n",
       "      <td>t shirts</td>\n",
       "      <td>clothing men s clothing t shirts</td>\n",
       "    </tr>\n",
       "  </tbody>\n",
       "</table>\n",
       "</div>"
      ],
      "text/plain": [
       "         Date             Item_Category  Item_Rating Product Product_Brand  \\\n",
       "0    2/3/2017        bags wallets belts          4.3  P-2610         B-659   \n",
       "1    7/1/2015                  clothing          3.1  P-2453        B-3078   \n",
       "2   1/12/2019  home decor festive needs          3.5  P-6802        B-1810   \n",
       "3  12/12/2014  beauty and personal care          4.0  P-4452        B-3078   \n",
       "4  12/12/2013                  clothing          4.3  P-8454        B-3078   \n",
       "\n",
       "   Selling_Price     Subcategory_1      Subcategory_2  \\\n",
       "0          291.0              bags          hand bags   \n",
       "1          897.0  women s clothing       western wear   \n",
       "2          792.0        showpieces             ethnic   \n",
       "3          837.0          eye care  h2o plus eye care   \n",
       "4          470.0    men s clothing           t shirts   \n",
       "\n",
       "                                                text  \n",
       "0                  bags wallets belts bags hand bags  \n",
       "1             clothing women s clothing western wear  \n",
       "2         home decor festive needs showpieces ethnic  \n",
       "3  beauty and personal care eye care h2o plus eye...  \n",
       "4                   clothing men s clothing t shirts  "
      ]
     },
     "execution_count": 164,
     "metadata": {},
     "output_type": "execute_result"
    }
   ],
   "source": [
    "dataset.head()"
   ]
  },
  {
   "cell_type": "code",
   "execution_count": null,
   "metadata": {},
   "outputs": [],
   "source": []
  },
  {
   "cell_type": "code",
   "execution_count": null,
   "metadata": {},
   "outputs": [],
   "source": []
  },
  {
   "cell_type": "code",
   "execution_count": 165,
   "metadata": {},
   "outputs": [],
   "source": [
    "cv = CountVectorizer(min_df=NAME_MIN_DF)\n",
    "X_Item_Category = cv.fit_transform(dataset['Item_Category'])\n",
    "    "
   ]
  },
  {
   "cell_type": "code",
   "execution_count": 166,
   "metadata": {},
   "outputs": [],
   "source": [
    "cv = CountVectorizer()\n",
    "X_category1 = cv.fit_transform(dataset['Subcategory_1'])\n",
    "    "
   ]
  },
  {
   "cell_type": "code",
   "execution_count": 167,
   "metadata": {},
   "outputs": [],
   "source": [
    "cv2 = CountVectorizer()\n",
    "X_category2 = cv.fit_transform(dataset['Subcategory_2'])\n",
    "    "
   ]
  },
  {
   "cell_type": "code",
   "execution_count": 168,
   "metadata": {},
   "outputs": [],
   "source": [
    "tv = TfidfVectorizer(max_features=MAX_FEATURES_ITEM_DESCRIPTION,\n",
    "                         ngram_range=(1, 3),\n",
    "                         stop_words='english')\n",
    "X_description = tv.fit_transform(dataset['text'])\n",
    "    "
   ]
  },
  {
   "cell_type": "code",
   "execution_count": 169,
   "metadata": {},
   "outputs": [],
   "source": [
    "lb = LabelBinarizer(sparse_output=True)\n",
    "X_brand = lb.fit_transform(dataset['Product_Brand'])\n",
    "    "
   ]
  },
  {
   "cell_type": "code",
   "execution_count": 170,
   "metadata": {},
   "outputs": [],
   "source": [
    "dataset['Product'] = dataset['Product'].str.replace(r'\\D', '')\n",
    "\n",
    "dataset['Product'] = pd.to_numeric(dataset['Product'], errors='coerce')\n"
   ]
  },
  {
   "cell_type": "code",
   "execution_count": 171,
   "metadata": {},
   "outputs": [],
   "source": [
    "X_product = f(dataset['Product'])"
   ]
  },
  {
   "cell_type": "code",
   "execution_count": 172,
   "metadata": {},
   "outputs": [],
   "source": [
    "X_prod=np.array(X_product).reshape(-1,1)"
   ]
  },
  {
   "cell_type": "code",
   "execution_count": 173,
   "metadata": {},
   "outputs": [
    {
     "data": {
      "text/plain": [
       "(3503, 1)"
      ]
     },
     "execution_count": 173,
     "metadata": {},
     "output_type": "execute_result"
    }
   ],
   "source": [
    "X_description.shape\n",
    "X_category1.shape\n",
    "X_category2.shape\n",
    "X_Item_Category.shape\n",
    "X_prod.shape"
   ]
  },
  {
   "cell_type": "code",
   "execution_count": null,
   "metadata": {},
   "outputs": [],
   "source": []
  },
  {
   "cell_type": "code",
   "execution_count": null,
   "metadata": {},
   "outputs": [],
   "source": [
    "X_description, X_brand, X_category1,X_category2, X_Item_Category , X_prod,encoded"
   ]
  },
  {
   "cell_type": "code",
   "execution_count": 761,
   "metadata": {},
   "outputs": [],
   "source": [
    "sparse_merge1 = hstack((X_prod,X_brand,X_Item_Category ,X_category1,X_category2,X_description,encoded)).tocsr()\n",
    "X1 = sparse_merge1[:nrow_train]\n",
    "X_test1 = sparse_merge1[nrow_train:]\n",
    "   "
   ]
  },
  {
   "cell_type": "code",
   "execution_count": 762,
   "metadata": {},
   "outputs": [],
   "source": [
    "# sparse_merge3 = hstack((X_description, X_brand, X_category1,X_category2, X_Item_Category , X_prod,encoded,topic)).tocsr()\n",
    "# X3 = sparse_merge3[:nrow_train]\n",
    "# X_test3 = sparse_merge3[nrow_train:]\n",
    "   "
   ]
  },
  {
   "cell_type": "code",
   "execution_count": null,
   "metadata": {},
   "outputs": [],
   "source": []
  },
  {
   "cell_type": "code",
   "execution_count": null,
   "metadata": {},
   "outputs": [],
   "source": []
  },
  {
   "cell_type": "code",
   "execution_count": 177,
   "metadata": {},
   "outputs": [],
   "source": [
    "# def rmsle_cv(model,X,y):\n",
    "#     n_folds = 5\n",
    "#     kf = KFold(n_folds, shuffle=True, random_state=42).get_n_splits(X)\n",
    "#     rmsle= np.sqrt(-cross_val_score(model, X, y, scoring=\"neg_mean_squared_log_error\", cv = kf))\n",
    "#     print(rmsle.mean())\n",
    "#     return(rmsle)"
   ]
  },
  {
   "cell_type": "code",
   "execution_count": 178,
   "metadata": {},
   "outputs": [],
   "source": [
    "# def rmsle_cv_ensemble(model,X,y):\n",
    "#     n_folds = 5\n",
    "#     kf = KFold(n_folds, shuffle=True, random_state=42).get_n_splits(X)\n",
    "    \n",
    "#     y_pred = cross_val_predict(model, X, np.log1p(y), cv=kf)\n",
    "#     if (y_pred<0).sum() :\n",
    "#             print(\"negtive {0} value predicted\".format( (y_pred<0).sum())) \n",
    "          \n",
    "        \n",
    "#     y_pred_inverse = np.expm1(y_pred)\n",
    "    \n",
    "    \n",
    "#     score = np.sqrt(mean_squared_log_error(y, y_pred))\n",
    "    \n",
    "#     return(score)"
   ]
  },
  {
   "cell_type": "code",
   "execution_count": null,
   "metadata": {},
   "outputs": [],
   "source": [
    "X3.shape"
   ]
  },
  {
   "cell_type": "code",
   "execution_count": 179,
   "metadata": {},
   "outputs": [],
   "source": [
    "def rmsle(y, y_pred):\n",
    "        return np.sqrt(mean_squared_log_error(y, y_pred))"
   ]
  },
  {
   "cell_type": "code",
   "execution_count": 384,
   "metadata": {},
   "outputs": [],
   "source": [
    "# d_train = lgb.Dataset(X, label= y)\n",
    "# params = {\n",
    "#         'learning_rate': 0.45,\n",
    "#         'application': 'regression',\n",
    "#         'max_depth': 10,\n",
    "#         'num_leaves': 1000,\n",
    "#         'verbosity': -1,\n",
    "#         'metric': 'RMSLE'}\n",
    "\n",
    "# model_lgb = lgb.train(params, train_set=d_train, num_boost_round=3200, verbose_eval=100) \n",
    "\n",
    "# model_lgb_train_pred = np.expm1(model_lgb.predict(X))\n",
    "\n",
    "# model_lgb_pred = np.expm1(model_lgb.predict(X_test))\n",
    "\n"
   ]
  },
  {
   "cell_type": "code",
   "execution_count": 385,
   "metadata": {},
   "outputs": [],
   "source": [
    "# model_lgb_pred"
   ]
  },
  {
   "cell_type": "code",
   "execution_count": 386,
   "metadata": {},
   "outputs": [],
   "source": [
    "# print(rmsle(np.expm1(y), model_lgb_train_pred))"
   ]
  },
  {
   "cell_type": "code",
   "execution_count": null,
   "metadata": {},
   "outputs": [],
   "source": []
  },
  {
   "cell_type": "code",
   "execution_count": 763,
   "metadata": {},
   "outputs": [
    {
     "name": "stdout",
     "output_type": "stream",
     "text": [
      "0.3813047020208203\n"
     ]
    },
    {
     "name": "stderr",
     "output_type": "stream",
     "text": [
      "/usr/local/lib/python3.6/dist-packages/sklearn/linear_model/_ridge.py:558: UserWarning: \"sag\" solver requires many iterations to fit an intercept with sparse inputs. Either set the solver to \"auto\" or \"sparse_cg\", or set a low \"tol\" and a high \"max_iter\" (especially if inputs are not standardized).\n",
      "  '\"sag\" solver requires many iterations to fit '\n"
     ]
    }
   ],
   "source": [
    "model_ridge =Ridge(solver=\"sag\", fit_intercept=True, random_state=2)\n",
    "\n",
    "model_ridge.fit(X3, y)\n",
    "\n",
    "model_ridge_train_pred = np.expm1(model_ridge.predict(X3))\n",
    "\n",
    "model_ridge_pred = np.expm1(model_ridge.predict(X_test3))\n",
    "\n",
    "print(rmsle(np.expm1(y), model_ridge_train_pred))"
   ]
  },
  {
   "cell_type": "code",
   "execution_count": 764,
   "metadata": {},
   "outputs": [
    {
     "data": {
      "text/plain": [
       "array([2042.39230208,  526.17707262,  639.14506068, ..., 1349.13640926,\n",
       "        380.9456279 , 1466.29523668])"
      ]
     },
     "execution_count": 764,
     "metadata": {},
     "output_type": "execute_result"
    }
   ],
   "source": [
    "model_ridge_pred"
   ]
  },
  {
   "cell_type": "code",
   "execution_count": 373,
   "metadata": {},
   "outputs": [
    {
     "data": {
      "text/plain": [
       "array([2042.39230208,  526.17707262,  639.14506068, ..., 1349.13640926,\n",
       "        380.9456279 , 1466.29523668])"
      ]
     },
     "execution_count": 373,
     "metadata": {},
     "output_type": "execute_result"
    }
   ],
   "source": [
    "model_ridge_pred"
   ]
  },
  {
   "cell_type": "code",
   "execution_count": 387,
   "metadata": {},
   "outputs": [],
   "source": [
    "from sklearn.model_selection import GridSearchCV"
   ]
  },
  {
   "cell_type": "code",
   "execution_count": 755,
   "metadata": {},
   "outputs": [],
   "source": [
    "# from sklearn.model_selection import RandomizedSearchCV\n",
    "# # Number of trees in random forest\n",
    "# n_estimators = [int(x) for x in np.linspace(start = 50, stop = 500, num = 10)]\n",
    "# # Number of features to consider at every split\n",
    "# max_features = ['auto', 'sqrt']\n",
    "# # Maximum number of levels in tree\n",
    "# max_depth = [int(x) for x in np.linspace(11, 33, num = 11)]\n",
    "# max_depth.append(None)\n",
    "# # Minimum number of samples required to split a node\n",
    "# min_samples_split = [2, 5, 10]\n",
    "# # Minimum number of samples required at each leaf node\n",
    "# min_samples_leaf = [1, 2, 4]\n",
    "# # Method of selecting samples for training each tree\n",
    "# bootstrap = [True, False]\n",
    "# # Create the random grid\n",
    "# random_grid = {'n_estimators': n_estimators,\n",
    "#                'max_features': max_features,\n",
    "#                'max_depth': max_depth,\n",
    "#                'min_samples_split': min_samples_split,\n",
    "#                'min_samples_leaf': min_samples_leaf,\n",
    "#                'bootstrap': bootstrap}"
   ]
  },
  {
   "cell_type": "code",
   "execution_count": 756,
   "metadata": {},
   "outputs": [],
   "source": [
    "# rf = RandomForestRegressor()\n",
    "# # Random search of parameters, using 3 fold cross validation, \n",
    "# # search across 100 different combinations, and use all available cores\n",
    "# rf_random = RandomizedSearchCV(estimator = rf, param_distributions = random_grid, n_iter = 100, cv = 3, verbose=2, random_state=42, n_jobs = -1)\n",
    "# # Fit the random search model\n",
    "# rf_random.fit(X1, y)"
   ]
  },
  {
   "cell_type": "code",
   "execution_count": 757,
   "metadata": {},
   "outputs": [],
   "source": [
    "# rf_random.best_params_"
   ]
  },
  {
   "cell_type": "code",
   "execution_count": 753,
   "metadata": {},
   "outputs": [
    {
     "name": "stdout",
     "output_type": "stream",
     "text": [
      "0.4715580313516514\n"
     ]
    }
   ],
   "source": [
    "model_rf = RandomForestRegressor(n_estimators= 100,\n",
    " min_samples_split= 2,\n",
    " min_samples_leaf =1,\n",
    " max_features= 'sqrt',\n",
    " max_depth= 23,\n",
    " bootstrap= False,random_state=2)\n",
    "\n",
    "model_rf.fit(X1, y)\n",
    "model_rf_train_pred = np.expm1(model_rf.predict(X1))\n",
    "\n",
    "model_rf_pred = np.expm1(model_rf.predict(X_test1))\n",
    "print(rmsle(np.expm1(y), model_rf_train_pred))"
   ]
  },
  {
   "cell_type": "code",
   "execution_count": 754,
   "metadata": {},
   "outputs": [
    {
     "data": {
      "text/plain": [
       "array([1954.90909907,  570.70547988,  696.45048924, ..., 1058.98826441,\n",
       "        555.8684146 , 1383.58538592])"
      ]
     },
     "execution_count": 754,
     "metadata": {},
     "output_type": "execute_result"
    }
   ],
   "source": [
    "model_rf_pred"
   ]
  },
  {
   "cell_type": "code",
   "execution_count": 752,
   "metadata": {},
   "outputs": [
    {
     "data": {
      "text/plain": [
       "array([1954.90909907,  570.70547988,  696.45048924, ..., 1058.98826441,\n",
       "        555.8684146 , 1383.58538592])"
      ]
     },
     "execution_count": 752,
     "metadata": {},
     "output_type": "execute_result"
    }
   ],
   "source": [
    "model_rf_pred"
   ]
  },
  {
   "cell_type": "code",
   "execution_count": 745,
   "metadata": {},
   "outputs": [
    {
     "name": "stdout",
     "output_type": "stream",
     "text": [
      "RMSLE score on train data:\n",
      "0.38363903214529416\n"
     ]
    }
   ],
   "source": [
    "\n",
    "print('RMSLE score on train data:')\n",
    "print(rmsle(np.expm1(y), model_rf_train_pred*0.24 + model_ridge_train_pred*0.76))"
   ]
  },
  {
   "cell_type": "code",
   "execution_count": null,
   "metadata": {},
   "outputs": [],
   "source": []
  },
  {
   "cell_type": "code",
   "execution_count": 748,
   "metadata": {},
   "outputs": [],
   "source": [
    "ensemble =  model_rf_pred*0.24 + model_ridge_pred*0.76 "
   ]
  },
  {
   "cell_type": "code",
   "execution_count": 749,
   "metadata": {},
   "outputs": [
    {
     "data": {
      "text/plain": [
       "array([2021.39633335,  536.86389036,  652.89836354, ..., 1279.50085449,\n",
       "        422.9270967 , 1446.4448725 ])"
      ]
     },
     "execution_count": 749,
     "metadata": {},
     "output_type": "execute_result"
    }
   ],
   "source": [
    "ensemble"
   ]
  },
  {
   "cell_type": "code",
   "execution_count": null,
   "metadata": {},
   "outputs": [],
   "source": []
  },
  {
   "cell_type": "code",
   "execution_count": null,
   "metadata": {},
   "outputs": [],
   "source": []
  },
  {
   "cell_type": "code",
   "execution_count": null,
   "metadata": {},
   "outputs": [],
   "source": []
  },
  {
   "cell_type": "code",
   "execution_count": null,
   "metadata": {},
   "outputs": [],
   "source": []
  },
  {
   "cell_type": "code",
   "execution_count": null,
   "metadata": {},
   "outputs": [],
   "source": []
  },
  {
   "cell_type": "code",
   "execution_count": 751,
   "metadata": {},
   "outputs": [],
   "source": [
    "sub['Selling_Price'] = ensemble\n",
    "\n",
    "sub.to_excel(\"submission_rf_ridge_X2final.xlsx\", index=False)\n"
   ]
  },
  {
   "cell_type": "code",
   "execution_count": null,
   "metadata": {},
   "outputs": [],
   "source": []
  },
  {
   "cell_type": "code",
   "execution_count": null,
   "metadata": {},
   "outputs": [],
   "source": []
  }
 ],
 "metadata": {
  "kernelspec": {
   "display_name": "Python 3",
   "language": "python",
   "name": "python3"
  },
  "language_info": {
   "codemirror_mode": {
    "name": "ipython",
    "version": 3
   },
   "file_extension": ".py",
   "mimetype": "text/x-python",
   "name": "python",
   "nbconvert_exporter": "python",
   "pygments_lexer": "ipython3",
   "version": "3.6.9"
  }
 },
 "nbformat": 4,
 "nbformat_minor": 4
}
